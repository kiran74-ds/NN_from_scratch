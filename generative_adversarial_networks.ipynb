{
 "cells": [
  {
   "cell_type": "code",
   "execution_count": 5,
   "metadata": {
    "colab": {},
    "colab_type": "code",
    "id": "umokswRCa8-k"
   },
   "outputs": [],
   "source": [
    "import numpy as np \n",
    "import matplotlib.pyplot as plt"
   ]
  },
  {
   "cell_type": "code",
   "execution_count": 6,
   "metadata": {
    "colab": {},
    "colab_type": "code",
    "id": "TBeqrI94dLwe"
   },
   "outputs": [],
   "source": [
    "import torch\n",
    "import torch.nn as nn\n",
    "import torch.nn.functional as F\n",
    "from torchvision import datasets, transforms"
   ]
  },
  {
   "cell_type": "markdown",
   "metadata": {
    "colab_type": "text",
    "id": "zWDYLvJw1Tiz"
   },
   "source": [
    "Load the Data"
   ]
  },
  {
   "cell_type": "code",
   "execution_count": 7,
   "metadata": {
    "colab": {},
    "colab_type": "code",
    "id": "T20-Jo5sdXSg"
   },
   "outputs": [],
   "source": [
    "transform = transforms.ToTensor()\n",
    "train_set = datasets.MNIST(root='data', download=True, train=True, transform=transform)\n",
    "train_loader = torch.utils.data.DataLoader(train_set, batch_size=64)"
   ]
  },
  {
   "cell_type": "markdown",
   "metadata": {
    "colab_type": "text",
    "id": "wNIFJM7B1N8j"
   },
   "source": [
    "Visualize the Data"
   ]
  },
  {
   "cell_type": "code",
   "execution_count": 8,
   "metadata": {
    "colab": {
     "base_uri": "https://localhost:8080/",
     "height": 265
    },
    "colab_type": "code",
    "id": "FNFO63N_1QdQ",
    "outputId": "1c84713c-580f-4a45-ae23-22854832f564"
   },
   "outputs": [
    {
     "data": {
      "image/png": "[encoded data removed]",
      "text/plain": [
       "<Figure size 432x288 with 1 Axes>"
      ]
     },
     "metadata": {
      "needs_background": "light"
     },
     "output_type": "display_data"
    }
   ],
   "source": [
    "data = iter(train_loader)\n",
    "images, labels = data.next()\n",
    "plt.imshow(images[0].squeeze(), cmap='gray');"
   ]
  },
  {
   "cell_type": "markdown",
   "metadata": {
    "colab_type": "text",
    "id": "6pLWI0eN1yaf"
   },
   "source": [
    "**Discriminator Architecture**"
   ]
  },
  {
   "cell_type": "code",
   "execution_count": 9,
   "metadata": {
    "colab": {},
    "colab_type": "code",
    "id": "rEXwr0ok1aT6"
   },
   "outputs": [],
   "source": [
    "class Discriminator(nn.Module):\n",
    "    def __init__(self, input_size, hidden_size, output_size):\n",
    "        super(Discriminator, self).__init__()\n",
    "\n",
    "        self.fc1 = nn.Linear(input_size, hidden_size*4)\n",
    "        self.fc2 = nn.Linear(hidden_size*4, hidden_size*2)\n",
    "        self.fc3 = nn.Linear(hidden_size*2, hidden_size)\n",
    "\n",
    "        self.fc4 = nn.Linear(hidden_size, output_size)\n",
    "\n",
    "        self.dropout = nn.Dropout(p=0.3)\n",
    "\n",
    "    def forward(self, x):\n",
    "        x = x.view(-1, 28*28)\n",
    "        x = F.relu(self.fc1(x))\n",
    "        x = self.dropout(x)\n",
    "        x = F.relu(self.fc2(x))\n",
    "        x = self.dropout(x)\n",
    "        x = F.relu(self.fc3(x))\n",
    "        x = self.dropout(x)\n",
    "\n",
    "        x = torch.sigmoid(self.fc4(x))\n",
    "\n",
    "        return x\n"
   ]
  },
  {
   "cell_type": "markdown",
   "metadata": {
    "colab_type": "text",
    "id": "aHtlvtA9-dEi"
   },
   "source": [
    "**Generator Architecture**"
   ]
  },
  {
   "cell_type": "code",
   "execution_count": 10,
   "metadata": {
    "colab": {},
    "colab_type": "code",
    "id": "iFhwcq7e5pJD"
   },
   "outputs": [],
   "source": [
    "class Generator(nn.Module):\n",
    "    def __init__(self, input_size, hidden_size, output_size):\n",
    "        super(Generator, self).__init__()\n",
    "        self.fc1 = nn.Linear(input_size, hidden_size)\n",
    "        self.fc2 = nn.Linear(hidden_size, hidden_size*2)\n",
    "        self.fc3 = nn.Linear(hidden_size*2, hidden_size*4)\n",
    "\n",
    "        self.fc4 = nn.Linear(hidden_size*4, output_size)\n",
    "        self.dropout = nn.Dropout(p=0.3)\n",
    "  \n",
    "    def forward(self, x):\n",
    "\n",
    "        x = F.relu(self.fc1(x))\n",
    "        x = self.dropout(x)\n",
    "        x = F.relu(self.fc2(x))\n",
    "        x = self.dropout(x)\n",
    "        x = F.relu(self.fc3(x))\n",
    "        x = self.dropout(x)\n",
    "\n",
    "        x = torch.tanh(self.fc4(x))\n",
    "        \n",
    "        return x"
   ]
  },
  {
   "cell_type": "markdown",
   "metadata": {
    "colab_type": "text",
    "id": "RP8xbRdp66zc"
   },
   "source": [
    "**Model Hyperparameters**"
   ]
  },
  {
   "cell_type": "code",
   "execution_count": 11,
   "metadata": {
    "colab": {
     "base_uri": "https://localhost:8080/",
     "height": 255
    },
    "colab_type": "code",
    "id": "ROcHtpL45vOy",
    "outputId": "afb291ac-5a89-41d1-def6-0f24741aa1a7"
   },
   "outputs": [
    {
     "name": "stdout",
     "output_type": "stream",
     "text": [
      "Generator(\n",
      "  (fc1): Linear(in_features=100, out_features=32, bias=True)\n",
      "  (fc2): Linear(in_features=32, out_features=64, bias=True)\n",
      "  (fc3): Linear(in_features=64, out_features=128, bias=True)\n",
      "  (fc4): Linear(in_features=128, out_features=784, bias=True)\n",
      "  (dropout): Dropout(p=0.3, inplace=False)\n",
      ")\n",
      "Discriminator(\n",
      "  (fc1): Linear(in_features=784, out_features=128, bias=True)\n",
      "  (fc2): Linear(in_features=128, out_features=64, bias=True)\n",
      "  (fc3): Linear(in_features=64, out_features=32, bias=True)\n",
      "  (fc4): Linear(in_features=32, out_features=1, bias=True)\n",
      "  (dropout): Dropout(p=0.3, inplace=False)\n",
      ")\n"
     ]
    }
   ],
   "source": [
    "# Discriminator\n",
    "\n",
    "input_size = 784\n",
    "d_hidden_size = 32\n",
    "d_output_size = 1\n",
    "\n",
    "# Generatoe\n",
    "\n",
    "z_size = 100\n",
    "g_hidden_size = 32\n",
    "g_output_size = 784\n",
    "\n",
    "\n",
    "G = Generator(z_size, g_hidden_size, g_output_size)\n",
    "D = Discriminator(input_size, d_hidden_size, d_output_size)\n",
    "\n",
    "print(G)\n",
    "print(D)"
   ]
  },
  {
   "cell_type": "markdown",
   "metadata": {
    "colab_type": "text",
    "id": "XiMk5NmM8RFc"
   },
   "source": [
    "**Loss and Optimizer**"
   ]
  },
  {
   "cell_type": "code",
   "execution_count": 47,
   "metadata": {
    "colab": {},
    "colab_type": "code",
    "id": "qefkg2cW64G0"
   },
   "outputs": [],
   "source": [
    "def real_loss(d_out):\n",
    "    batch_size = d_out.size(0)\n",
    "\n",
    "    labels = torch.ones(batch_size)\n",
    "    criterion = nn.BCEWithLogitsLoss()\n",
    "    loss = criterion(d_out.squeeze(), labels)\n",
    "\n",
    "    return loss\n",
    "\n",
    "def fake_loss(d_out):\n",
    "    batch_size = d_out.size(0)\n",
    "\n",
    "    labels = torch.zeros(batch_size)\n",
    "    criterion = nn.BCEWithLogitsLoss()\n",
    "    loss = criterion(d_out.squeeze(), labels)\n",
    "\n",
    "    return loss\n",
    "\n",
    "\n",
    "d_optimizer = torch.optim.Adam(D.parameters(), lr=0.001)\n",
    "g_optimizer = torch.optim.Adam(G.parameters(), lr=0.001)"
   ]
  },
  {
   "cell_type": "markdown",
   "metadata": {
    "colab_type": "text",
    "id": "mYwTcouZ86Ur"
   },
   "source": [
    "**Train the model**\n",
    "\n",
    "\n",
    "Discriminator training\n",
    "\n",
    "\n",
    "*   Compute the discriminator loss on real, training images\n",
    "*   Generate fake images\n",
    "*   Compute the discriminator loss on fake, generated images\n",
    "*  Add real loss and fake loss\n",
    "*  perform back prop and optimization step to update discriminator weights\n",
    "\n",
    "Generator training\n",
    "\n",
    "\n",
    "*   Generate fake images\n",
    "*   Compute the discriminator loss on fake images, using flipped labels!\n",
    "*   Perform backpropagation + an optimization step to update the generator's weights\n"
   ]
  },
  {
   "cell_type": "code",
   "execution_count": 49,
   "metadata": {
    "colab": {
     "base_uri": "https://localhost:8080/",
     "height": 187
    },
    "colab_type": "code",
    "id": "OR-aON4J9cD-",
    "outputId": "5235237a-d52e-4f2b-c180-ce004c1a596d"
   },
   "outputs": [
    {
     "name": "stdout",
     "output_type": "stream",
     "text": [
      "Epoch 1  Generator Loss 0.6931471824645996 Discriminator Loss 1.3862943649291992\n",
      "Epoch 2  Generator Loss 0.6931471824645996 Discriminator Loss 1.3862943649291992\n",
      "Epoch 3  Generator Loss 0.6931471824645996 Discriminator Loss 1.3862943649291992\n",
      "Epoch 4  Generator Loss 0.6931471824645996 Discriminator Loss 1.3862943649291992\n",
      "Epoch 5  Generator Loss 0.6931471824645996 Discriminator Loss 1.3862943649291992\n",
      "Epoch 6  Generator Loss 0.6931471824645996 Discriminator Loss 1.3862943649291992\n",
      "Epoch 7  Generator Loss 0.6931471824645996 Discriminator Loss 1.3862943649291992\n",
      "Epoch 8  Generator Loss 0.6931471824645996 Discriminator Loss 1.3862943649291992\n",
      "Epoch 9  Generator Loss 0.6931471824645996 Discriminator Loss 1.3862943649291992\n",
      "Epoch 10  Generator Loss 0.6931471824645996 Discriminator Loss 1.3862943649291992\n"
     ]
    }
   ],
   "source": [
    "epochs = 10 \n",
    "samples = []\n",
    "fixed_z = torch.from_numpy(np.random.uniform(-1, 1, size=(16, z_size))).float()\n",
    "for epoch in range(epochs):\n",
    "    for batch, (images, _) in enumerate(train_loader):\n",
    "\n",
    "        batch_size = images.size(0)\n",
    "        images = images*2 - 1 # resize images from the scale [0, 1] to [-1, 1]\n",
    "\n",
    "        ## Train the Discriminator\n",
    "        ## Compute real loss\n",
    "        d_optimizer.zero_grad()\n",
    "        d_real = D(images)\n",
    "        d_real_loss = real_loss(d_real)\n",
    "        ## Generate Fake Images \n",
    "        z = np.random.uniform(-1, 1, size = (batch_size, z_size))\n",
    "        z = torch.from_numpy(z).float()\n",
    "        fake_images = G(z)\n",
    "        ## Compute loss on fake images\n",
    "        d_fake = D(fake_images)\n",
    "        d_fake_loss = fake_loss(d_fake)\n",
    "\n",
    "        # Add real loss and fake loss\n",
    "        d_loss = d_real_loss + d_fake_loss\n",
    "\n",
    "        # back prop and optimization step\n",
    "        d_loss.backward()\n",
    "        d_optimizer.step()\n",
    "\n",
    "\n",
    "        ### Train the Generator\n",
    "\n",
    "        g_optimizer.zero_grad()\n",
    "\n",
    "        ## Generate Fake Images\n",
    "        z = np.random.uniform(-1, 1, (batch_size, z_size))\n",
    "        z = torch.from_numpy(z).float()\n",
    "\n",
    "        fake_images = G(z)\n",
    "\n",
    "        d_fake = D(fake_images)\n",
    "        g_loss = real_loss(d_fake)\n",
    "\n",
    "        g_loss.backward()\n",
    "        g_optimizer.step()\n",
    "\n",
    "    print(\"Epoch {}  Generator Loss {} Discriminator Loss {}\".format(epoch+1, g_loss.item(), d_loss.item()))\n",
    "    G.eval() # eval mode for generating samples\n",
    "    samples_z = G(fixed_z)\n",
    "    samples.append(samples_z)\n",
    "    G.train() \n"
   ]
  },
  {
   "cell_type": "code",
   "execution_count": 71,
   "metadata": {
    "colab": {
     "base_uri": "https://localhost:8080/",
     "height": 268
    },
    "colab_type": "code",
    "id": "dkZWKhsrBupy",
    "outputId": "9cd80001-b587-4ab0-f846-16ab391e26a3"
   },
   "outputs": [
    {
     "data": {
      "image/png": "[encoded data removed]",
      "text/plain": [
       "<Figure size 1440x288 with 16 Axes>"
      ]
     },
     "metadata": {
      "needs_background": "light",
      "tags": []
     },
     "output_type": "display_data"
    }
   ],
   "source": [
    "sample_images = samples[-1]\n",
    "sample_images = sample_images.detach().numpy()\n",
    "plt.figure(figsize=(20,4))\n",
    "for i in range(16):\n",
    "    ax = plt.subplot(2, 8, i+1)\n",
    "    ax.imshow(sample_images[i].reshape(28, 28), cmap='gray')"
   ]
  },
  {
   "cell_type": "code",
   "execution_count": 1,
   "metadata": {
    "colab": {},
    "colab_type": "code",
    "id": "wq7CAyvcGyvZ"
   },
   "outputs": [],
   "source": [
    "## Changing Relu to Leaky Relu\n",
    "## Adding Smooth parameter ie 0.9 as true label instead of 1\n",
    "## Running more number of epochs can help model to learn better and generate better samples"
   ]
  },
  {
   "cell_type": "code",
   "execution_count": null,
   "metadata": {},
   "outputs": [],
   "source": []
  }
 ],
 "metadata": {
  "colab": {
   "collapsed_sections": [],
   "name": "generative_adversarial_networks.ipynb",
   "provenance": []
  },
  "kernelspec": {
   "display_name": "Python 3",
   "language": "python",
   "name": "python3"
  },
  "language_info": {
   "codemirror_mode": {
    "name": "ipython",
    "version": 3
   },
   "file_extension": ".py",
   "mimetype": "text/x-python",
   "name": "python",
   "nbconvert_exporter": "python",
   "pygments_lexer": "ipython3",
   "version": "3.7.6"
  }
 },
 "nbformat": 4,
 "nbformat_minor": 1
}
